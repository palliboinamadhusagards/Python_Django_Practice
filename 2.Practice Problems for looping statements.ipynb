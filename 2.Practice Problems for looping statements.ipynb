{
 "cells": [
  {
   "cell_type": "markdown",
   "metadata": {},
   "source": [
    "1. Take 10 integers from keyboard using loop and print their average value on the screen"
   ]
  },
  {
   "cell_type": "code",
   "execution_count": 27,
   "metadata": {},
   "outputs": [
    {
     "name": "stdout",
     "output_type": "stream",
     "text": [
      "Enter number:9\n",
      "Enter number:8\n",
      "Enter number:7\n",
      "Enter number:6\n",
      "Enter number:5\n",
      "Enter number:4\n",
      "Enter number:3\n",
      "Enter number:2\n",
      "Enter number:1\n",
      "Enter number:1\n",
      "Sum of the numbers: 46\n",
      "Average of the numbers: 4.6\n"
     ]
    }
   ],
   "source": [
    "sum = 0\n",
    "\n",
    "for i in range(1, 11):\n",
    "    num = int(input(\"Enter number:\"))\n",
    "    sum = sum + num\n",
    "    avg = sum / i\n",
    "\n",
    "print(\"Sum of the numbers:\",sum)\n",
    "print(\"Average of the numbers:\",avg)"
   ]
  },
  {
   "cell_type": "markdown",
   "metadata": {},
   "source": [
    "2. Print multiplication table of 24, 50 and 29 using loop."
   ]
  },
  {
   "cell_type": "code",
   "execution_count": 28,
   "metadata": {},
   "outputs": [
    {
     "name": "stdout",
     "output_type": "stream",
     "text": [
      "24\t \t29\t \t59\t \t\n",
      "\n",
      "48\t \t58\t \t118\t \t\n",
      "\n",
      "72\t \t87\t \t177\t \t\n",
      "\n",
      "96\t \t116\t \t236\t \t\n",
      "\n",
      "120\t \t145\t \t295\t \t\n",
      "\n",
      "144\t \t174\t \t354\t \t\n",
      "\n",
      "168\t \t203\t \t413\t \t\n",
      "\n",
      "192\t \t232\t \t472\t \t\n",
      "\n",
      "216\t \t261\t \t531\t \t\n",
      "\n",
      "240\t \t290\t \t590\t \t\n",
      "\n"
     ]
    }
   ],
   "source": [
    "mul = [24, 29, 59]\n",
    "\n",
    "for i in range(1,11):\n",
    "    for l in mul:\n",
    "        table = l * i\n",
    "        print(table, end=\"\\t \\t\")\n",
    "    print('\\n')"
   ]
  },
  {
   "cell_type": "markdown",
   "metadata": {},
   "source": [
    "3. Take integer inputs from user until user presses q ( Ask to press q to quit after every integer input ). Print average and product of all numbers."
   ]
  },
  {
   "cell_type": "code",
   "execution_count": 30,
   "metadata": {},
   "outputs": [
    {
     "name": "stdout",
     "output_type": "stream",
     "text": [
      "Enter user input: 12\n",
      "Enter user input: 24\n",
      "Enter user input: 36\n",
      "Enter user input: Q\n",
      "\n",
      " quit \n",
      "\n",
      "sum of all given number: 72\n",
      "count of iterations: 3\n",
      "Average of all numbers 24.0\n",
      "product of all numbers: 10368\n"
     ]
    }
   ],
   "source": [
    "sum = 0\n",
    "count = 0\n",
    "prod = 1\n",
    "\n",
    "while 1:\n",
    "    \n",
    "    user_input = input(\"Enter user input: \")\n",
    "    \n",
    "    if user_input == 'q' or user_input == 'Q':\n",
    "        \n",
    "        print(\"\\n quit \\n\")\n",
    "        break\n",
    "    \n",
    "    else:\n",
    "        \n",
    "        sum = sum + int(user_input)\n",
    "        count = count + 1\n",
    "        avg = sum /count\n",
    "        prod = prod * int(user_input) \n",
    "        \n",
    "print(\"sum of all given number: {}\\ncount of iterations: {}\".format(sum,count))       \n",
    "print(\"Average of all numbers\",avg)\n",
    "print(\"product of all numbers:\",prod)"
   ]
  },
  {
   "cell_type": "markdown",
   "metadata": {},
   "source": [
    "## 4. A three digit number is called Armstrong number if sum of cube of its digit is equal to number itself.\n",
    "E.g.- 153 is an Armstrong number because (13)+(53)+(33) = 153.\n",
    "Write all Armstrong numbers between 100 to 500."
   ]
  },
  {
   "cell_type": "code",
   "execution_count": 31,
   "metadata": {},
   "outputs": [
    {
     "name": "stdout",
     "output_type": "stream",
     "text": [
      "Armstrong numbers between 100 to 500 are: 153\n",
      "Armstrong numbers between 100 to 500 are: 370\n",
      "Armstrong numbers between 100 to 500 are: 371\n",
      "Armstrong numbers between 100 to 500 are: 407\n"
     ]
    }
   ],
   "source": [
    "for num in range(100,500):\n",
    "    res1 = num % 10\n",
    "    res2 = (num // 10) % 10\n",
    "    res3 = (num // 10) // 10\n",
    "    res = ((res1 * res1* res1 ) + (res2 * res2 * res2 ) + (res3 * res3 * res3 ))\n",
    "    if num == res:\n",
    "        print(\"Armstrong numbers between 100 to 500 are:\", res)"
   ]
  },
  {
   "cell_type": "markdown",
   "metadata": {},
   "source": [
    "5. Write a Python program which iterates the integers from 1 to 50. For multiples of three print \"Fizz\" instead of the number and for the multiples of five print \"Buzz\". For numbers which are multiples of both three and five print \"FizzBuzz\".\n",
    "\n",
    "Sample Output :\n",
    "\n",
    "    fizzbuzz\n",
    "\n",
    "    1\n",
    "\n",
    "    2\n",
    "\n",
    "    fizz\n",
    "\n",
    "    4\n",
    "\n",
    "    buzz"
   ]
  },
  {
   "cell_type": "code",
   "execution_count": 32,
   "metadata": {},
   "outputs": [
    {
     "name": "stdout",
     "output_type": "stream",
     "text": [
      "Fizzbuzz\n",
      "1\n",
      "2\n",
      "Fizz\n",
      "4\n",
      "buzz\n",
      "Fizz\n",
      "7\n",
      "8\n",
      "Fizz\n",
      "buzz\n",
      "11\n",
      "Fizz\n",
      "13\n",
      "14\n",
      "Fizzbuzz\n",
      "16\n",
      "17\n",
      "Fizz\n",
      "19\n",
      "buzz\n",
      "Fizz\n",
      "22\n",
      "23\n",
      "Fizz\n",
      "buzz\n",
      "26\n",
      "Fizz\n",
      "28\n",
      "29\n",
      "Fizzbuzz\n",
      "31\n",
      "32\n",
      "Fizz\n",
      "34\n",
      "buzz\n",
      "Fizz\n",
      "37\n",
      "38\n",
      "Fizz\n",
      "buzz\n",
      "41\n",
      "Fizz\n",
      "43\n",
      "44\n",
      "Fizzbuzz\n",
      "46\n",
      "47\n",
      "Fizz\n",
      "49\n",
      "buzz\n"
     ]
    }
   ],
   "source": [
    "for i in range(0,51):\n",
    "    \n",
    "    if ((i % 3 == 0) & (i % 5 == 0)):\n",
    "        print(\"Fizzbuzz\")\n",
    "        \n",
    "    elif (i % 3 == 0):\n",
    "        print(\"Fizz\")\n",
    "        \n",
    "    elif (i % 5 == 0):\n",
    "        print(\"buzz\")\n",
    "        \n",
    "    else:\n",
    "        print(i)"
   ]
  },
  {
   "cell_type": "markdown",
   "metadata": {},
   "source": [
    "6. Write a program to find greatest common divisor (GCD) or highest common factor (HCF) of given two numbers."
   ]
  },
  {
   "cell_type": "markdown",
   "metadata": {},
   "source": [
    "https://www.mathsisfun.com/greatest-common-factor.html"
   ]
  },
  {
   "cell_type": "code",
   "execution_count": 33,
   "metadata": {},
   "outputs": [
    {
     "name": "stdout",
     "output_type": "stream",
     "text": [
      "Enter first number:120\n",
      "Enter second number:76\n",
      "[1, 2, 4]\n",
      "4\n"
     ]
    }
   ],
   "source": [
    "num1 = int(input(\"Enter first number:\"))\n",
    "num2 = int(input(\"Enter second number:\"))\n",
    "\n",
    "a = []\n",
    "\n",
    "if num1 > num2:\n",
    "    end = num2 + 1\n",
    "else:\n",
    "    end = num1 + 1\n",
    "\n",
    "for i in range(1, end):\n",
    "    \n",
    "    if num1 % i == 0 and num2 % i == 0 :\n",
    "        a.append(i)\n",
    "print(a)    \n",
    "print(max(a))\n",
    "    "
   ]
  },
  {
   "cell_type": "markdown",
   "metadata": {},
   "source": [
    "7. Write a Python program to find numbers between 100 and 400 (both included) where each digit of a number is an even number. The numbers obtained should be printed in a comma-separated sequence."
   ]
  },
  {
   "cell_type": "code",
   "execution_count": 34,
   "metadata": {},
   "outputs": [
    {
     "name": "stdout",
     "output_type": "stream",
     "text": [
      "200,202,204,206,208,220,222,224,226,228,240,242,244,246,248,260,262,264,266,268,280,282,284,286,288,400,"
     ]
    }
   ],
   "source": [
    "for i in range(100, 401):\n",
    "    chars = str(i)\n",
    "    digit_1 = int(chars[0])\n",
    "    digit_2 = int(chars[1])\n",
    "    digit_3 = int(chars[2])\n",
    "    \n",
    "    if ((digit_1%2 == 0) & (digit_2 % 2 == 0) & (digit_3 % 2 == 0)):\n",
    "        print(i,end=\",\")\n",
    "    "
   ]
  },
  {
   "cell_type": "markdown",
   "metadata": {},
   "source": [
    "8.  Write a Python program which takes two digits m (row) and n (column) as input and generates a two-dimensional array. The element value in the i-th row and j-th column of the array should be 2*(i+j).\n",
    "\n",
    "Note :\n",
    "\n",
    "i = 0,1.., m-1\n",
    "\n",
    "j = 0,1, n-1.\n",
    "\n",
    "Test Data : Rows = 3, Columns = 4\n",
    "\n",
    "Expected Result : [[0, 2, 4, 6], \n",
    "                   [2, 4, 6, 8], \n",
    "                   [6, 8, 10, 12]]"
   ]
  },
  {
   "cell_type": "code",
   "execution_count": 35,
   "metadata": {},
   "outputs": [
    {
     "name": "stdout",
     "output_type": "stream",
     "text": [
      "Enter row value: 3\n",
      "Enter column value: 4\n",
      "\n",
      "\n",
      "Single_Dimension array: [0, 2, 4, 6]\n",
      "Single_Dimension array: [2, 4, 6, 8]\n",
      "Single_Dimension array: [4, 6, 8, 10]\n",
      "\n",
      "result_array:\n",
      "\n",
      " [[0, 2, 4, 6], [2, 4, 6, 8], [4, 6, 8, 10]]\n"
     ]
    }
   ],
   "source": [
    "r = int(input(\"Enter row value: \"))\n",
    "c = int(input(\"Enter column value: \"))\n",
    "print(\"\\n\")\n",
    "arr = []\n",
    "\n",
    "for i in range(r):\n",
    "    row_arr=[]\n",
    "    \n",
    "    for j in range(c):\n",
    "        val = 2*(i+j)\n",
    "        row_arr.append(val)\n",
    "    print(\"Single_Dimension array:\",row_arr)\n",
    "    \n",
    "    arr.append(row_arr)\n",
    "\n",
    "print(\"\\nresult_array:\\n\\n\",arr)\n",
    "    "
   ]
  },
  {
   "cell_type": "markdown",
   "metadata": {},
   "source": [
    "9. Write a program to find prime factor of a number.\n",
    "If a factor of a number is prime number then it is its prime factor."
   ]
  },
  {
   "cell_type": "code",
   "execution_count": 36,
   "metadata": {},
   "outputs": [
    {
     "name": "stdout",
     "output_type": "stream",
     "text": [
      "Enter an number:27\n",
      "prime factor of a number: 3\n"
     ]
    }
   ],
   "source": [
    "n=int(input(\"Enter an number:\"))\n",
    "for i in range(1,n):\n",
    "    k=0\n",
    "    if(n%i==0):\n",
    "        j=1\n",
    "        while(j<=i):\n",
    "            if(i%j==0):\n",
    "                k=k+1\n",
    "            j=j+1\n",
    "        if(k==2):\n",
    "            print(\"prime factor of a number:\",i)\n",
    "    i=i+1"
   ]
  },
  {
   "cell_type": "markdown",
   "metadata": {},
   "source": [
    "10. Write a Python program to get the Fibonacci series. length of series should taken by user.\n",
    "\n",
    "Note : The Fibonacci Sequence is the series of numbers :\n",
    "\n",
    "        0, 1, 1, 2, 3, 5, 8, 13, 21, ....\n",
    "        \n",
    "Every next number is found by adding up the two numbers before it.\n",
    "\n",
    "Expected Output : 1 1 2 3 5 8 13 21 34."
   ]
  },
  {
   "cell_type": "code",
   "execution_count": 37,
   "metadata": {},
   "outputs": [
    {
     "name": "stdout",
     "output_type": "stream",
     "text": [
      "Enter Length9\n",
      "1\n",
      "1\n",
      "2\n",
      "3\n",
      "5\n",
      "8\n",
      "13\n",
      "21\n",
      "34\n"
     ]
    }
   ],
   "source": [
    "len = int(input(\"Enter Length\"))\n",
    "n1 = 0\n",
    "n2 = 1\n",
    "for i in range(len):\n",
    "    res = n1 + n2\n",
    "    n1 = n2\n",
    "    n2 = res\n",
    "    print(n1)"
   ]
  },
  {
   "cell_type": "code",
   "execution_count": 38,
   "metadata": {},
   "outputs": [
    {
     "name": "stdout",
     "output_type": "stream",
     "text": [
      "Enter Length:9\n",
      "1\n",
      "1\n",
      "2\n",
      "3\n",
      "5\n",
      "8\n",
      "13\n",
      "21\n",
      "34\n"
     ]
    }
   ],
   "source": [
    "len = int(input(\"Enter Length:\"))\n",
    "count=0\n",
    "n1 = 0\n",
    "n2 = 1\n",
    "while count < len:\n",
    "    res = n1 + n2\n",
    "    n1 = n2\n",
    "    n2 = res\n",
    "    count = count + 1\n",
    "    \n",
    "    print(n1)"
   ]
  },
  {
   "cell_type": "markdown",
   "metadata": {},
   "source": [
    "11. A 4 digit number is entered through keyboard. Write a program to print a new number with digits reversed as of orignal one. E.g.-\n",
    "\n",
    "INPUT : 1234        OUTPUT : 4321\n",
    "\n",
    "INPUT : 5982        OUTPUT : 2895\n",
    "\n",
    "NOTE:- Can not use buil-in function e.g. sort(), reverse() use loops here"
   ]
  },
  {
   "cell_type": "code",
   "execution_count": 39,
   "metadata": {},
   "outputs": [
    {
     "name": "stdout",
     "output_type": "stream",
     "text": [
      "Enter number:5982\n",
      "2895\n"
     ]
    }
   ],
   "source": [
    "num = int(input(\"Enter number:\"))\n",
    "rev = 0\n",
    "while num > 0 :\n",
    "    last_digit = num % 10\n",
    "    rev = rev * 10 + last_digit\n",
    "    num = num//10\n",
    "print(rev)"
   ]
  },
  {
   "cell_type": "markdown",
   "metadata": {},
   "source": [
    "12. Write a program to find sum of digits of given number by user answer should be of single digit.\n",
    "\n",
    "Example: input: 25643\n",
    "\n",
    "        sum of digits of 2+5+6+4+3 = 20\n",
    "        again find sum of digits of 20 and final answer would be 2+0 = 2"
   ]
  },
  {
   "cell_type": "code",
   "execution_count": 40,
   "metadata": {},
   "outputs": [
    {
     "name": "stdout",
     "output_type": "stream",
     "text": [
      "Enter num:25643\n",
      "Sum of digits: 20\n",
      "Final sum of digits: 2\n"
     ]
    }
   ],
   "source": [
    "num = input(\"Enter num:\")\n",
    "sum = 0\n",
    "\n",
    "for i in num:\n",
    "    sum = int(i) + sum\n",
    "    L = str(sum)\n",
    "    res = 0\n",
    "    for j in L:\n",
    "        res = int(j) + res\n",
    "\n",
    "print(\"Sum of digits:\", sum)\n",
    "print(\"Final sum of digits:\", res)\n",
    "    "
   ]
  },
  {
   "cell_type": "markdown",
   "metadata": {},
   "source": [
    "13. Write a Python program to construct the following pattern, using a nested for loop.\n",
    "    * \n",
    "    * * \n",
    "    * * * \n",
    "    * * * * \n",
    "    * * * * * \n",
    "    * * * * \n",
    "    * * * \n",
    "    * * \n",
    "    *"
   ]
  },
  {
   "cell_type": "code",
   "execution_count": 41,
   "metadata": {},
   "outputs": [
    {
     "name": "stdout",
     "output_type": "stream",
     "text": [
      " \n",
      "*  \n",
      "* *  \n",
      "* * *  \n",
      "* * * *  \n",
      "* * * * *  \n",
      "* * * *  \n",
      "* * *  \n",
      "* *  \n",
      "*  \n"
     ]
    }
   ],
   "source": [
    "for i in range(5):\n",
    "    for j in range(i):\n",
    "        print('*',end=' ')\n",
    "    print(\" \")\n",
    "for i in range(5,0,-1):\n",
    "    for j in range(i):\n",
    "        print('*',end=' ')\n",
    "    print(\" \")\n"
   ]
  },
  {
   "cell_type": "code",
   "execution_count": null,
   "metadata": {},
   "outputs": [],
   "source": [
    "14. Write a Python program to print alphabet pattern 'A'.\n",
    "  ***                                                                   \n",
    " *   *                                                                  \n",
    " *   *                                                                  \n",
    " *****                                                                  \n",
    " *   *                                                                  \n",
    " *   *                                                                  \n",
    " *   *"
   ]
  },
  {
   "cell_type": "code",
   "execution_count": 42,
   "metadata": {},
   "outputs": [
    {
     "name": "stdout",
     "output_type": "stream",
     "text": [
      "  * * *   \n",
      "*       * \n",
      "*       * \n",
      "* * * * * \n",
      "*       * \n",
      "*       * \n",
      "*       * \n"
     ]
    }
   ],
   "source": [
    "for row in range(7):\n",
    "    for col in range(5):\n",
    "        if((col==0 or col==4) and row!=0) or((row==0 or row==3)and (col>0 and col<4)):\n",
    "            print(\"*\",end= \" \")\n",
    "        else:\n",
    "            print(\" \",end= \" \")\n",
    "            \n",
    "    print()"
   ]
  },
  {
   "cell_type": "markdown",
   "metadata": {},
   "source": [
    "15. Write a Python program to construct the following pattern, using a nested loop number.\n",
    "Expected Output:\n",
    "\n",
    "1\n",
    "\n",
    "22\n",
    "\n",
    "333\n",
    "\n",
    "4444\n",
    "\n",
    "55555\n",
    "\n",
    "666666\n",
    "\n",
    "7777777\n",
    "\n",
    "88888888\n",
    "\n",
    "999999999\n"
   ]
  },
  {
   "cell_type": "code",
   "execution_count": 43,
   "metadata": {},
   "outputs": [
    {
     "name": "stdout",
     "output_type": "stream",
     "text": [
      "\n",
      "1\n",
      "22\n",
      "333\n",
      "4444\n",
      "55555\n",
      "666666\n",
      "7777777\n",
      "88888888\n",
      "999999999\n"
     ]
    }
   ],
   "source": [
    "for i in range(10):\n",
    "    print(str(i)*i)"
   ]
  },
  {
   "cell_type": "markdown",
   "metadata": {},
   "source": [
    "16. Write a Python program to construct the following pattern, using a nested loop number.\n",
    "Expected Output:\n",
    "\n",
    "    * \n",
    "   * * \n",
    "  * * * \n",
    " * * * * \n",
    "* * * * *\n",
    "\n"
   ]
  },
  {
   "cell_type": "code",
   "execution_count": 44,
   "metadata": {},
   "outputs": [
    {
     "name": "stdout",
     "output_type": "stream",
     "text": [
      "Enter number of rows:5\n",
      "    * \n",
      "   * * \n",
      "  * * * \n",
      " * * * * \n",
      "* * * * * \n"
     ]
    }
   ],
   "source": [
    "num = int(input(\"Enter number of rows:\"))\n",
    "for i in range(0,num):\n",
    "    for j in range(0,num-i-1):\n",
    "        print(end=\" \")\n",
    "    for j in range(0, i+1):\n",
    "        print(\"*\", end=\" \")\n",
    "    print()\n",
    "        \n",
    "    "
   ]
  },
  {
   "cell_type": "code",
   "execution_count": null,
   "metadata": {},
   "outputs": [],
   "source": []
  }
 ],
 "metadata": {
  "kernelspec": {
   "display_name": "Python 3",
   "language": "python",
   "name": "python3"
  },
  "language_info": {
   "codemirror_mode": {
    "name": "ipython",
    "version": 3
   },
   "file_extension": ".py",
   "mimetype": "text/x-python",
   "name": "python",
   "nbconvert_exporter": "python",
   "pygments_lexer": "ipython3",
   "version": "3.7.3"
  }
 },
 "nbformat": 4,
 "nbformat_minor": 2
}

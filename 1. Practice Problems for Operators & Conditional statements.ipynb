{
 "cells": [
  {
   "cell_type": "markdown",
   "metadata": {},
   "source": [
    "### 1. Take values of length and breadth of a rectangle from user and check if it is square or not. Return area."
   ]
  },
  {
   "cell_type": "code",
   "execution_count": 5,
   "metadata": {},
   "outputs": [
    {
     "name": "stdout",
     "output_type": "stream",
     "text": [
      "Enter the value of length:2\n",
      "Enter the value of breadth:2\n",
      "Area: 4.0\n",
      "It is Square\n"
     ]
    }
   ],
   "source": [
    "l = float(input(\"Enter the value of length:\"))\n",
    "b = float(input(\"Enter the value of breadth:\"))\n",
    "\n",
    "if l == b:\n",
    "    print(\"Area:\", (l * b))\n",
    "    print(\"It is Square\")\n",
    "else:\n",
    "    print(\"It is not Square\")"
   ]
  },
  {
   "cell_type": "markdown",
   "metadata": {},
   "source": [
    "### 2. Write a Python program which accepts the radius of a circle from the user and compute the area."
   ]
  },
  {
   "cell_type": "code",
   "execution_count": 6,
   "metadata": {},
   "outputs": [
    {
     "name": "stdout",
     "output_type": "stream",
     "text": [
      "Enter the value of radius:2\n",
      "Area of the circle: 12.566368\n"
     ]
    }
   ],
   "source": [
    "## Formula to compute the area of the circle : pi*r**2 or A=πr2\n",
    "\n",
    "r = float(input(\"Enter the value of radius:\"))\n",
    "pi = 3.141592\n",
    "\n",
    "A = pi * (r**2)\n",
    "\n",
    "print(\"Area of the circle:\",A)"
   ]
  },
  {
   "cell_type": "code",
   "execution_count": 10,
   "metadata": {},
   "outputs": [
    {
     "name": "stdout",
     "output_type": "stream",
     "text": [
      "Enter the value of radius:2\n",
      "Area of the circle: 12.56637\n"
     ]
    }
   ],
   "source": [
    "import math as mt\n",
    "\n",
    "r = float(input(\"Enter the value of radius:\"))\n",
    "A = (mt.pi) * (r**2)\n",
    "\n",
    "print(\"Area of the circle:\",round(A,5))"
   ]
  },
  {
   "cell_type": "markdown",
   "metadata": {},
   "source": [
    "### 3. Write a Python program that accepts an integer (n) and computes the value of n+nn+nnn.\n",
    "Sample value of n is 5\n",
    "\n",
    "Expected Result : 615\n",
    "\n",
    "https://pyformat.info/"
   ]
  },
  {
   "cell_type": "code",
   "execution_count": 31,
   "metadata": {},
   "outputs": [
    {
     "name": "stdout",
     "output_type": "stream",
     "text": [
      "Enter the value of n:5\n",
      "5\n",
      "55\n",
      "555\n",
      "615\n"
     ]
    }
   ],
   "source": [
    "n = int(input(\"Enter the value of n:\"))\n",
    "\n",
    "## using string format\n",
    "\n",
    "n= \"{}\".format(n)\n",
    "\n",
    "nn = \"{}{}\".format(n,n)\n",
    "\n",
    "nnn= \"{}{}{}\".format(n,n,n)\n",
    "\n",
    "print(n)\n",
    "print(nn)\n",
    "print(nnn)\n",
    "\n",
    "res = int(n) + int(nn) + int(nnn)\n",
    "print(res)"
   ]
  },
  {
   "cell_type": "markdown",
   "metadata": {},
   "source": [
    "### 4. A company decided to deduct pf of 12% of salary if year of service is less than 5 year and 24% employee if his/her year of service is more than 5 years.Ask user for their salary and year of service and print the net in-hand salary after pf deduction."
   ]
  },
  {
   "cell_type": "code",
   "execution_count": 36,
   "metadata": {},
   "outputs": [
    {
     "name": "stdout",
     "output_type": "stream",
     "text": [
      "Enter user salary:1200000\n",
      "Enter user experience:7\n",
      "Deduction: 288000.0\n",
      "Net salary in hand: 912000.0\n"
     ]
    }
   ],
   "source": [
    "sal = float(input(\"Enter user salary:\"))\n",
    "exp = float(input(\"Enter user experience:\"))\n",
    "\n",
    "if exp <=5:\n",
    "    deduction = sal * (12/100)\n",
    "    print(\"Deduction:\", deduction)\n",
    "    \n",
    "    netsal = sal - deduction\n",
    "    print(\"Net salary in hand:\", netsal)\n",
    "else :\n",
    "    deduction = sal * (24/100)\n",
    "    print(\"Deduction:\", deduction)\n",
    "    \n",
    "    netsal = sal - deduction\n",
    "    print(\"Net salary in hand:\", netsal)"
   ]
  },
  {
   "cell_type": "markdown",
   "metadata": {},
   "source": [
    "### 5. A school has following rules for grading system:\n",
    "    a. Below 40 - F\n",
    "    \n",
    "    b. 40 to 50 - C\n",
    "    \n",
    "    c. 50 to 60 - C+\n",
    "    \n",
    "    d. 60 to 70 - B\n",
    "    \n",
    "    e. 70 to 80 - B+\n",
    "    \n",
    "    f. 80 to 90 - A\n",
    "    \n",
    "    g. Above 90 - A+\n",
    "\n",
    "Ask user to enter marks for their 5 main subject and print the corresponding grade and overall grade for average of marks."
   ]
  },
  {
   "cell_type": "markdown",
   "metadata": {},
   "source": [
    "## I am not understand question can any one explain me "
   ]
  },
  {
   "cell_type": "markdown",
   "metadata": {},
   "source": [
    "### 6. A student will not be allowed to sit in exam if his/her attendence is less than 75%. Take following input from user Number of classes held and Number of classes attended. And print percentage of class attended, Is student is allowed to sit in exam or not."
   ]
  },
  {
   "cell_type": "code",
   "execution_count": 50,
   "metadata": {},
   "outputs": [
    {
     "name": "stdout",
     "output_type": "stream",
     "text": [
      "Enter total number of classes held:200\n",
      "Enter number of classes attended:140\n",
      "print percentage of class attended is 70.0%\n",
      "Student is not allowed to sit in exam\n"
     ]
    }
   ],
   "source": [
    "total_class = int(input(\"Enter total number of classes held:\"))\n",
    "classes_attend = int(input(\"Enter number of classes attended:\"))\n",
    "\n",
    "attendence_percentage = round(((classes_attend / total_class) * 100),3)\n",
    "\n",
    "print(\"print percentage of class attended is {}%\".format(attendence_percentage))\n",
    "\n",
    "if attendence_percentage < 75:\n",
    "    print(\"Student is not allowed to sit in exam\")\n",
    "else :\n",
    "    print(\"Student is allowed to sit in exam\")"
   ]
  },
  {
   "cell_type": "markdown",
   "metadata": {},
   "source": [
    "### 7. Modify the above question to allow student to sit if he/she has medical cause reduce attendance criteria to 60%. Ask user if he/she has medical cause or not ( 'Y' or 'N' ) and print accordingly."
   ]
  },
  {
   "cell_type": "code",
   "execution_count": 55,
   "metadata": {},
   "outputs": [
    {
     "name": "stdout",
     "output_type": "stream",
     "text": [
      "Enter total number of classes held:120\n",
      "Enter number of classes attended:80\n",
      "Ask user has medical cause:N\n",
      "print percentage of class attended is 66.667%\n",
      "Student is not allowed to sit in exam\n"
     ]
    }
   ],
   "source": [
    "total_class = int(input(\"Enter total number of classes held:\"))\n",
    "classes_attend = int(input(\"Enter number of classes attended:\"))\n",
    "\n",
    "medical_cause = input(\"Ask user has medical cause:\")\n",
    "\n",
    "attendence_percentage = round(((classes_attend / total_class) * 100),3)\n",
    "\n",
    "print(\"print percentage of class attended is {}%\".format(attendence_percentage))\n",
    "\n",
    "if ((attendence_percentage) < 75 and (medical_cause == 'N')):\n",
    "    print(\"Student is not allowed to sit in exam\")\n",
    "elif ((attendence_percentage) >= 60 and (medical_cause == 'Y'))   :\n",
    "    print(\"Student is allowed to sit in exam\")\n",
    "    print(\"Student has medical reason and excuse to sit in exam\")\n",
    "else:\n",
    "    print(\"Student is allowed to sit in exam\")"
   ]
  },
  {
   "cell_type": "markdown",
   "metadata": {},
   "source": [
    "### 8. Write a program to check if a year is leap year or not.If a year is divisible by 4 then it is leap year but if the year is century year like 2000, 1900, 2100 then it must be divisible by 400."
   ]
  },
  {
   "cell_type": "code",
   "execution_count": 58,
   "metadata": {},
   "outputs": [
    {
     "name": "stdout",
     "output_type": "stream",
     "text": [
      "Enter year:1992\n",
      "The given year 1992 is leap year\n"
     ]
    }
   ],
   "source": [
    "year = int(input(\"Enter year:\"))\n",
    "\n",
    "if ((year % 4) == 0):\n",
    "    if((year % 100) == 0):\n",
    "        if((year % 400) == 0):\n",
    "            print(\"The given year {} is leap year\".format(year))\n",
    "        else:\n",
    "            print(\"The given year {} is not a leap year\".format(year))\n",
    "    else:\n",
    "        print(\"The given year {} is leap year\".format(year))\n",
    "else:\n",
    "    print(\"The given year {} is not a leap year\".format(year))\n",
    "            "
   ]
  },
  {
   "cell_type": "markdown",
   "metadata": {},
   "source": [
    "### 9. Ask user to enter age, gender ( M or F ), marital status ( Y or N ) and then using following rules print their place of service.\n",
    "if employee is female, then she will work only in urban areas.\n",
    "\n",
    "if employee is a male and age is in between 20 to 30 and not married then he may work in anywhere.\n",
    "\n",
    "if employee is a female and age is in between 20 to 30 and not married then she may work in urban areas.\n",
    "\n",
    "if employee is male and age is in between 20 t0 30 and married then he will work in nearby Hometown.\n",
    "\n",
    "if employee is female and age is in between 20 t0 30 and married then she will work in her husband's city.\n",
    "\n",
    "And any other input of age should print \"ERROR\"."
   ]
  },
  {
   "cell_type": "code",
   "execution_count": 62,
   "metadata": {},
   "outputs": [
    {
     "name": "stdout",
     "output_type": "stream",
     "text": [
      "Enter age:35\n",
      "Enter gender:M\n",
      "Enter marital_status:Y\n",
      "ERROR\n"
     ]
    }
   ],
   "source": [
    "age = int(input(\"Enter age:\"))\n",
    "gender = input(\"Enter gender:\")\n",
    "\n",
    "marital_status = input(\"Enter marital_status:\")\n",
    "\n",
    "if ((((age >=20) & (age <=30)) & (gender == 'M')) & (marital_status == 'N')):\n",
    "    print(\"He may work in anywhere\")\n",
    "elif ((((age >=20) & (age <=30)) & (gender == 'F')) & (marital_status == 'N')):\n",
    "    print(\"She may work in urban areas.\")\n",
    "elif ((((age >=20) & (age <=30)) & (gender == 'M')) & (marital_status == 'Y')):\n",
    "    print(\"He will work in nearby Hometown.\")\n",
    "elif ((((age >=20) & (age <=30)) & (gender == 'F')) & (marital_status == 'Y')):\n",
    "    print(\"She will work in her husband's city.\")\n",
    "else:\n",
    "    print(\"ERROR\")"
   ]
  },
  {
   "cell_type": "markdown",
   "metadata": {},
   "source": [
    "### 10. A 4 digit number is entered through keyboard. Write a program to print a new number with digits reversed as of orignal one. E.g.-\n",
    "INPUT : 1234        OUTPUT : 4321\n",
    "\n",
    "INPUT : 5982        OUTPUT : 2895\n",
    "\n",
    "NOTE:- Do not use builtin functions e.g. sort(), reverse() and loop try to solve it by if-else"
   ]
  },
  {
   "cell_type": "code",
   "execution_count": 101,
   "metadata": {},
   "outputs": [
    {
     "name": "stdout",
     "output_type": "stream",
     "text": [
      "Enter 4 digit number:0987\n",
      "Reverse:  789\n"
     ]
    }
   ],
   "source": [
    "num = int(input(\"Enter 4 digit number:\"))\n",
    "rev = 0\n",
    "if(num < 0):\n",
    "    print(\"Number is invalid\")\n",
    "else:\n",
    "    if(num):\n",
    "        last_digit = num % 10\n",
    "        rev = rev * 10 + last_digit\n",
    "        num = num // 10\n",
    "    \n",
    "    if(num):\n",
    "        last_digit = num % 10\n",
    "        rev = rev * 10 + last_digit\n",
    "        num = num // 10\n",
    "        \n",
    "    if(num):\n",
    "        last_digit = num % 10\n",
    "        rev = rev * 10 + last_digit\n",
    "        num = num // 10\n",
    "    \n",
    "    if(num):\n",
    "        last_digit = num % 10\n",
    "        rev = rev * 10 + last_digit\n",
    "        num = num // 10\n",
    "\n",
    "print(\"Reverse: \", rev);"
   ]
  },
  {
   "cell_type": "markdown",
   "metadata": {},
   "source": [
    "### 11. Write a program to find sum of digits of given number by user answer should be of single digit.\n",
    "    \n",
    "    Example: input: 25643\n",
    "    \n",
    "    sum of digits of 2+5+6+4+3 = 20\n",
    "    \n",
    "    again find sum of digits of 20 and final answer would be 2+0 = 2 "
   ]
  },
  {
   "cell_type": "code",
   "execution_count": 98,
   "metadata": {},
   "outputs": [
    {
     "name": "stdout",
     "output_type": "stream",
     "text": [
      "Please Enter any Number: 25643\n",
      "20\n",
      "2\n"
     ]
    }
   ],
   "source": [
    "num = str(input(\"Please Enter any Number: \"))\n",
    "j=0\n",
    "sum = 0\n",
    "for i in num:\n",
    "    k = int(i) + j\n",
    "    sum = sum + k\n",
    "    \n",
    "\n",
    "    L = str(sum)\n",
    "    x = 0\n",
    "    sum1 = 0\n",
    "    for y in L:\n",
    "        z = int(y) + x\n",
    "        sum1 = sum1 + z\n",
    "print(sum)\n",
    "print(sum1)\n",
    "        "
   ]
  },
  {
   "cell_type": "markdown",
   "metadata": {},
   "source": [
    "### 12. Write a Python program to find those numbers which are divisible by 7 and multiple of 5, between 1500 and 2700 (both included)."
   ]
  },
  {
   "cell_type": "code",
   "execution_count": 90,
   "metadata": {},
   "outputs": [
    {
     "name": "stdout",
     "output_type": "stream",
     "text": [
      "1505\n",
      "1540\n",
      "1575\n",
      "1610\n",
      "1645\n",
      "1680\n",
      "1715\n",
      "1750\n",
      "1785\n",
      "1820\n",
      "1855\n",
      "1890\n",
      "1925\n",
      "1960\n",
      "1995\n",
      "2030\n",
      "2065\n",
      "2100\n",
      "2135\n",
      "2170\n",
      "2205\n",
      "2240\n",
      "2275\n",
      "2310\n",
      "2345\n",
      "2380\n",
      "2415\n",
      "2450\n",
      "2485\n",
      "2520\n",
      "2555\n",
      "2590\n",
      "2625\n",
      "2660\n",
      "2695\n"
     ]
    }
   ],
   "source": [
    "for x in range(1500, 2701):\n",
    "    if (x%7==0) and (x%5==0):\n",
    "        print(x)"
   ]
  },
  {
   "cell_type": "markdown",
   "metadata": {},
   "source": [
    "### 13. A shop will give discount of 10% max upto 100rs if the cost of purchased quantity is more than 1000.\n",
    "    Ask user for quantity\n",
    "    Suppose, one unit will cost 100rs.\n",
    "    Judge and print total cost for user."
   ]
  },
  {
   "cell_type": "code",
   "execution_count": 96,
   "metadata": {},
   "outputs": [
    {
     "name": "stdout",
     "output_type": "stream",
     "text": [
      "Enter the quantity:8\n",
      "Total_price: 800\n"
     ]
    }
   ],
   "source": [
    "qty = int(input(\"Enter the quantity:\"))\n",
    "\n",
    "price = qty * 100\n",
    "total_discount=0\n",
    "if (price > 1000):\n",
    "    discount = 0.1\n",
    "    total_discount =  discount * price\n",
    "    print(total_discount)\n",
    "    if total_discount > 100:\n",
    "        total_discount = 100\n",
    "        print(\"Total_price:\", (price-total_discount))\n",
    "else:\n",
    "    discount = 0\n",
    "    print(\"Total_price:\", (price-total_discount))\n",
    "        "
   ]
  },
  {
   "cell_type": "markdown",
   "metadata": {},
   "source": [
    "### 14. Write a Python program to calculate number of days between two dates."
   ]
  },
  {
   "cell_type": "code",
   "execution_count": null,
   "metadata": {},
   "outputs": [],
   "source": []
  }
 ],
 "metadata": {
  "kernelspec": {
   "display_name": "Python 3",
   "language": "python",
   "name": "python3"
  },
  "language_info": {
   "codemirror_mode": {
    "name": "ipython",
    "version": 3
   },
   "file_extension": ".py",
   "mimetype": "text/x-python",
   "name": "python",
   "nbconvert_exporter": "python",
   "pygments_lexer": "ipython3",
   "version": "3.7.3"
  }
 },
 "nbformat": 4,
 "nbformat_minor": 2
}

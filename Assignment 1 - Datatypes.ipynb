{
 "cells": [
  {
   "cell_type": "markdown",
   "metadata": {},
   "source": [
    "<b>\n",
    "1.In the pre-smartphone era,each number key is assigned a subset of the alphabet {a,b,…,z}. \n",
    "    - 2 is assigned {a,b,c}, \n",
    "    - 3 is assigned {d,e,f} \n",
    "    - 4 is assigned {g,h,i} \n",
    "    - 5 is assigned {j,k,l}\n",
    "    - 6 is assigned {m,n,o} \n",
    "    - 7 is assigned {p,q,r,s}\n",
    "    - 8 is assigned {t,u,v} \n",
    "    - 9 is assigned {w,x,y,z}\n",
    "    \n",
    "Write a function numbers_to_chars() to find the characters generated using key 9999335533. \n",
    "Output should be \"zeke\"\n",
    "\n",
    "Function Name : numbers_to_chars()\n",
    "Input : Integer number sequence\n",
    "Output : Str\n",
    "\n",
    "Test Cases\n",
    "\n",
    "1. numbers_to_chars(766655533) - 'pole'\n",
    "2. numbers_to_chars(55566677778) - 'lost'\n",
    "3. numbers_to_chars(866676665556664999) - 'topology'\n",
    "\n",
    "</b>"
   ]
  },
  {
   "cell_type": "code",
   "execution_count": 2,
   "metadata": {},
   "outputs": [
    {
     "data": {
      "text/plain": [
       "'zeka'"
      ]
     },
     "execution_count": 2,
     "metadata": {},
     "output_type": "execute_result"
    }
   ],
   "source": [
    "dic = {2:['a','b','c'],3:['d','e','f'],4:['g','h','i'],5:['j','k','l'],6:['m','n','o'],7:['p','q','r','s'],8:['t','u','v'],9:['w','x','y','z']}\n",
    "\n",
    "def question_first_solution(input_seq):\n",
    "    temp = ''\n",
    "    lst = []\n",
    "    output_str = \"\"\n",
    "    \n",
    "    # Splitting string when ever there is character\n",
    "    \n",
    "    for x,y in zip(input_seq,input_seq[1:]+input_seq[-1]):\n",
    "        \n",
    "        if x == y:\n",
    "            temp = temp + \"\".join(x + '')\n",
    "        else:\n",
    "            temp = temp + \"\".join(x + ',')\n",
    "    \n",
    "    lst = temp.split(',')\n",
    "    \n",
    "    # Converting the given input sequence to characters\n",
    "    for i in lst:\n",
    "        key = list(set(i))\n",
    "        val = dic[int(key[0])]\n",
    "        \n",
    "        if len(i) > len(val):\n",
    "            output_str = output_str + val[(len(i)-len(val) -1)]\n",
    "        else:    \n",
    "            output_str = output_str + val[len(i)-1]\n",
    "    \n",
    "    return output_str\n",
    "\n",
    "question_first_solution(\"999933552\")"
   ]
  },
  {
   "cell_type": "code",
   "execution_count": 7,
   "metadata": {},
   "outputs": [
    {
     "name": "stdout",
     "output_type": "stream",
     "text": [
      "zeke\n"
     ]
    }
   ],
   "source": [
    "from itertools import groupby\n",
    "\n",
    "def question_first_solution(input_seq):\n",
    "    \n",
    "    res = \"\"\n",
    "    dic = {\n",
    "        2:['a','b','c'],\n",
    "        3:['d','e','f'],\n",
    "        4:['g','h','i'],\n",
    "        5:['j','k','l'],\n",
    "        6:['m','n','o'],\n",
    "        7:['p','q','r','s'],\n",
    "        8:['t','u','v'],\n",
    "        9:['w','x','y','z']}\n",
    "    \n",
    "    lst = []\n",
    "    key = []\n",
    "    \n",
    "    for ch,it in groupby(input_seq):\n",
    "        length = len(list(it))\n",
    "        lst.append(length)\n",
    "        key.append(ch)\n",
    "\n",
    "\n",
    "    for x,y in zip(key,lst):\n",
    "        val = dic[int(x[0])]\n",
    "        \n",
    "        if y == len(val):\n",
    "            res = res + val[len(val) - 1]\n",
    "        else:\n",
    "            res = res + val[(y - len(val)) - 1]\n",
    "    \n",
    "    return res\n",
    "print(question_first_solution(\"9999335533\"))"
   ]
  },
  {
   "cell_type": "markdown",
   "metadata": {},
   "source": [
    "<b> 2.Given a dict of tickets(\"to\":\"from\")\n",
    "\n",
    "{\"Chennai\":\"Banglore\",\"Bombay\":\"Delhi\",\"Goa\":\"Chennai\",\"Delhi\":\"Goa\"} find out the sequence of travel.\n",
    "\n",
    "Expected Output : Bombay->Delhi, Delhi->Goa, Goa->Chennai, Chennai->Banglore\n",
    "\n",
    "Function Name : travel_sequence\n",
    "Input : dict \n",
    "Output : dict\n",
    "\n",
    "Test Cases\n",
    "\n",
    "1. travel_sequence({\"Chennai\":\"Banglore\",\"Bombay\":\"Delhi\",\"Goa\":\"Chennai\",\"Delhi\":\"Goa\"}) -  Bombay->Delhi, Delhi->Goa, Goa->Chennai, Chennai->Banglore\n",
    "2. travel_sequence({\"A\":\"C\",\"C\":\"D\",\"E\":\"G\",\"D\":\"E\",\"G\":\"F\"}) - A->C,C->D,D->E,E->G,G->F\n",
    "3. travel_sequence({\"X\":\"Z\",\"Z\":\"U\",\"A\":\"B\",\"B\":\"X\"}) - A->B,B->X,X->Z,Z->U\n",
    "\n",
    "</b>"
   ]
  },
  {
   "cell_type": "code",
   "execution_count": 3,
   "metadata": {},
   "outputs": [
    {
     "name": "stdout",
     "output_type": "stream",
     "text": [
      "{'Chennai': 'Banglore', 'Bombay': 'Delhi', 'Goa': 'Chennai', 'Delhi': 'Goa'}\n"
     ]
    },
    {
     "data": {
      "text/plain": [
       "{'Bombay': 'Delhi', 'Delhi': 'Goa', 'Goa': 'Chennai', 'Chennai': 'Banglore'}"
      ]
     },
     "execution_count": 3,
     "metadata": {},
     "output_type": "execute_result"
    }
   ],
   "source": [
    "def question_second_solution(tickets):\n",
    "    print(tickets)\n",
    "    dic = tickets\n",
    "    lst = sorted(dic.items())\n",
    "    lst1 = lst[:1]\n",
    "    lst2 = lst[1:]\n",
    "    lst3 = []\n",
    "    j = 0\n",
    "    k = 0\n",
    "    \n",
    "    for i in range(len(lst2)):\n",
    "        if lst1[k][1] == lst2[i][j]:\n",
    "            lst1.append(lst2[i])\n",
    "            k = k+1\n",
    "        else:\n",
    "            lst3.append(lst2[i])\n",
    "            \n",
    "    return dict(lst1 + lst3)\n",
    "\n",
    "question_second_solution(dict({\"Chennai\":\"Banglore\",\"Bombay\":\"Delhi\",\"Goa\":\"Chennai\",\"Delhi\":\"Goa\"}))"
   ]
  },
  {
   "cell_type": "markdown",
   "metadata": {},
   "source": [
    "<b>\n",
    "3.Given a dictionary that associates the names of states with a list of the names of cities that appear in it,write a program that creates a new dictionary that associates the name of a city with the list of states that it appears in.\n",
    "\n",
    "As an example, if the first dictionary is\n",
    "\n",
    "Input :\n",
    "states = {'New Hampshire': ['Concord', 'Hanover'],\n",
    "\n",
    "'Massachusetts': ['Boston', 'Concord', 'Springfield'],\n",
    "\n",
    "'Illinois': ['Chicago', 'Springfield', 'Peoria']\n",
    "}\n",
    "\n",
    "Output:\n",
    "\n",
    "cities = {'Hanover': ['New Hampshire'],\n",
    "\n",
    "'Chicago': ['Illinois'],'Boston': ['Massachusetts'], \n",
    "\n",
    "'Peoria': ['Illinois'],'Concord': ['New Hampshire','Massachusetts'],\n",
    "\n",
    "'Springfield': ['Massachusetts', 'Illinois']\n",
    "}\n",
    "\n",
    "Function Name : city_with_states\n",
    "Input : dict \n",
    "Output : dict\n",
    "\n",
    "Test Cases\n",
    "1. city_with_states({'New Hampshire': ['Concord', 'Hanover'],'Massachusetts': ['Boston', 'Concord', 'Springfield'],'Illinois': ['Chicago', 'Springfield', 'Peoria'] }) -\n",
    "   {'Hanover': ['New Hampshire'],'Chicago': ['Illinois'],'Boston': ['Massachusetts'],'Peoria': ['Illinois'],'Concord': ['New Hampshire','Massachusetts'],'Springfield': ['Massachusetts', 'Illinois'] }\n",
    "\n",
    "2. city_with_states({'A':['AA','AB'], 'B':['BB','BC], 'C':['CC','CD,'BB'] }) - { 'AA':['A'], 'AB':['A'], 'BB':['B','C'], 'BC':['B'], 'CC':['C'], 'CD':['C'] }\n",
    "\n",
    "</b>"
   ]
  },
  {
   "cell_type": "code",
   "execution_count": 4,
   "metadata": {},
   "outputs": [
    {
     "data": {
      "text/plain": [
       "{'Concord': ['New Hampshire', 'Massachusetts'],\n",
       " 'Hanover': ['New Hampshire'],\n",
       " 'Boston': ['Massachusetts'],\n",
       " 'Springfield': ['Massachusetts', 'Illinois'],\n",
       " 'Chicago': ['Illinois'],\n",
       " 'Peoria': ['Illinois']}"
      ]
     },
     "execution_count": 4,
     "metadata": {},
     "output_type": "execute_result"
    }
   ],
   "source": [
    "def question_third_solution(states):\n",
    "    res = {}\n",
    "    for key,val in states.items():\n",
    "        for i in range(len(val)):\n",
    "            if val[i] in res:\n",
    "                res[val[i]].append(key)\n",
    "            else:\n",
    "                res[val[i]] = [key]\n",
    "    return res\n",
    "\n",
    "question_third_solution(states = {'New Hampshire': ['Concord', 'Hanover'],\n",
    "          'Massachusetts': ['Boston', 'Concord', 'Springfield'],\n",
    "          'Illinois': ['Chicago', 'Springfield', 'Peoria'] })"
   ]
  },
  {
   "cell_type": "markdown",
   "metadata": {},
   "source": [
    "<b>\n",
    "4.How do you check if a given String contains valid parentheses?\n",
    "Given a string containing just the characters '(', ')', '{', '}', '[' and ']', write a program in python to check if the input string is valid. The brackets must close in the correct order, \"()\" and \"()[]{}\" are all valid but \"(]\" and \"([)]\" are not.\n",
    "\n",
    "Function Name : check_parentheses\n",
    "Input : str\n",
    "Output : True/False\n",
    "\n",
    "Test Cases\n",
    "1. check_parentheses(\"()[]{}\") - True\n",
    "2. check_parentheses(\"()}[]{\") - False\n",
    "\n",
    "</b>"
   ]
  },
  {
   "cell_type": "code",
   "execution_count": 5,
   "metadata": {},
   "outputs": [
    {
     "data": {
      "text/plain": [
       "False"
      ]
     },
     "execution_count": 5,
     "metadata": {},
     "output_type": "execute_result"
    }
   ],
   "source": [
    "def question_fourth_solution(brackets):\n",
    "    \n",
    "    input_dic = {\"(\":\")\",\"[\":\"]\",\"{\":\"}\"}\n",
    "    lst = []\n",
    "    \n",
    "    for bracket in brackets:\n",
    "        if bracket in input_dic:\n",
    "            lst.append(bracket)\n",
    "        elif len(lst) == 0 or input_dic[lst.pop()] != bracket:\n",
    "            return False\n",
    "    return len(lst) == 0  \n",
    "\n",
    "question_fourth_solution(\"(){}][\")"
   ]
  },
  {
   "cell_type": "markdown",
   "metadata": {},
   "source": [
    "<b>\n",
    "5.Write a program to convert Integer to Roman String. For example, if a given integer is 5 then your program should print \"V\".\n",
    "\n",
    "Function Name : int_roman\n",
    "Input : int\n",
    "Output : str\n",
    "\n",
    "Test Cases\n",
    "\n",
    "1. int_roman(1001) - MI\n",
    "2. int_roman(1100) - MC\n",
    "3. int_roman(150) - CL\n",
    "\n",
    "</b>"
   ]
  },
  {
   "cell_type": "code",
   "execution_count": 6,
   "metadata": {},
   "outputs": [
    {
     "data": {
      "text/plain": [
       "'MC'"
      ]
     },
     "execution_count": 6,
     "metadata": {},
     "output_type": "execute_result"
    }
   ],
   "source": [
    "num_romanletters = [(1000, 'M'), (900, 'CM'), (500, 'D'), (400, 'CD'), (100, 'C'), (90, 'XC'),\n",
    "                        (50, 'L'), (40, 'XL'), (10, 'X'), (9, 'IX'), (5, 'V'), (4, 'IV'), (1, 'I')]\n",
    "\n",
    "def question_fifth_solution(number):\n",
    "        \n",
    "    roman = ''\n",
    "    \n",
    "    while number > 0:\n",
    "        for num, rom in num_romanletters:\n",
    "            while number >= num:\n",
    "                roman = roman + rom\n",
    "                number = number - num\n",
    "    return roman\n",
    "\n",
    "question_fifth_solution(1100)"
   ]
  },
  {
   "cell_type": "markdown",
   "metadata": {},
   "source": [
    "<b>\n",
    "6.Write a program utility that counts the number of lines of actual python code in a. For the purpose of this exercise, a line is counted if it contains something other than whitespace or text in a comment.\n",
    "\n",
    "remember that comment start sequences that appear inside python strings should be ignored.\n",
    "\n",
    "Function Name : count_code_lines\n",
    "Input : str\n",
    "Output : int\n",
    "</b>"
   ]
  },
  {
   "cell_type": "code",
   "execution_count": 2,
   "metadata": {},
   "outputs": [],
   "source": [
    "input_code = \"\"\"\n",
    "#Linear search implementation\n",
    "#Takes list and a key as input and returns True or False as answer\n",
    "def linear_saerch(l,key):\n",
    "    for value in l:\n",
    "        if key == value:\n",
    "            return True #Return True is key exist\n",
    "    else:\n",
    "        return False #Return False if key does not exist\n",
    "\n",
    "l = [100,200,300,400,500,600]\n",
    "key = 500\n",
    "result = linear_search(l,key)\n",
    "print(result)\n",
    "\"\"\"\n"
   ]
  },
  {
   "cell_type": "code",
   "execution_count": 8,
   "metadata": {},
   "outputs": [
    {
     "ename": "IndentationError",
     "evalue": "unexpected indent (<ipython-input-8-dcfc4a7dd7f7>, line 24)",
     "output_type": "error",
     "traceback": [
      "\u001b[1;36m  File \u001b[1;32m\"<ipython-input-8-dcfc4a7dd7f7>\"\u001b[1;36m, line \u001b[1;32m24\u001b[0m\n\u001b[1;33m    \"\"\"\u001b[0m\n\u001b[1;37m    ^\u001b[0m\n\u001b[1;31mIndentationError\u001b[0m\u001b[1;31m:\u001b[0m unexpected indent\n"
     ]
    }
   ],
   "source": [
    "# Test Cases:\n",
    "    \n",
    "# 1. Input : \n",
    "\"\"\"\n",
    "#Linear search implementation\n",
    "#Takes list and a key as input and returns True or False as answer\n",
    "def linear_saerch(l,key):\n",
    "    for value in l:\n",
    "        if key == value:\n",
    "            return True #Return True is key exist\n",
    "    else:\n",
    "        return False #Return False if key does not exist\n",
    "\n",
    "\n",
    "l = [100,200,300,400,500,600]\n",
    "key = 500\n",
    "result = linear_search(l,key)\n",
    "print(result)\n",
    "\"\"\"\n",
    "\n",
    "# Expected Output: 10\n",
    "    \n",
    "# 2. Input : \n",
    "        \"\"\"\n",
    "#Linear search implementation\n",
    "#Takes list and a key as input and returns True or False as answer\n",
    "'''Time complexity is O(n)'''\n",
    "\n",
    "@classmethod\n",
    "def linear_search(l,key):\n",
    "    for value in l:\n",
    "        if key == value:\n",
    "            return True #Return True is key exist\n",
    "    else:\n",
    "        return False #Return False if key does not exist\n",
    "\n",
    "\n",
    "l = [100,200,300,400,500,600]\n",
    "key = 500\n",
    "result = linear_search(l,key)\n",
    "\n",
    "\n",
    "print(result)\n",
    "\"\"\"\n",
    "\n",
    "# Expected Output: 12\n",
    "    \n",
    "    "
   ]
  },
  {
   "cell_type": "code",
   "execution_count": 9,
   "metadata": {},
   "outputs": [
    {
     "data": {
      "text/plain": [
       "10"
      ]
     },
     "execution_count": 9,
     "metadata": {},
     "output_type": "execute_result"
    }
   ],
   "source": [
    "def question_sixth_solution(code):\n",
    "    lines = code.split(\"\\n\")\n",
    "    without_emptyline = []\n",
    "    \n",
    "    # removing the line which starts with whitespaces and copy the output to another list\n",
    "    for line in lines:\n",
    "        if line != \"\":\n",
    "            without_emptyline.append(line)\n",
    "    \n",
    "    final_mul_line_str = without_emptyline.copy()\n",
    "    \n",
    "    # removing the line which starts with comment\n",
    "    for line in without_emptyline:\n",
    "        if line.startswith('#'):\n",
    "            final_mul_line_str.remove(line)\n",
    "\n",
    "    # counting the number of lines without whitespaces and starts with comment\n",
    "    count = 0\n",
    "    for line in final_mul_line_str:\n",
    "        count = count +1\n",
    "    return count\n",
    "\n",
    "\n",
    "question_sixth_solution(\"\"\"\n",
    "#Linear search implementation\n",
    "#Takes list and a key as input and returns True or False as answer\n",
    "def linear_saerch(l,key):\n",
    "    for value in l:\n",
    "        if key == value:\n",
    "            return True #Return True is key exist\n",
    "    else:\n",
    "        return False #Return False if key does not exist\n",
    "\n",
    "\n",
    "l = [100,200,300,400,500,600]\n",
    "key = 500\n",
    "result = linear_search(l,key)\n",
    "print(result)\n",
    "\"\"\")"
   ]
  },
  {
   "cell_type": "markdown",
   "metadata": {},
   "source": [
    "<b>\n",
    "7.Write a program to check the strength of a supplied password\n",
    "\n",
    "The length of the password must be at least 8 characters in length\n",
    "The password must contain at least 1 capital letter\n",
    "The password must contain at least 1 digit\n",
    "The password must contain at least 1 special character and allowed special characters are (!,@,#,$,&)\n",
    "                                                                                           \n",
    "We need to provide feedback to the user about the strength of their password\n",
    "\n",
    "Provide the user with a list of reasons why their password is 'weak'                                                                                       \n",
    "Function Name : check_password_strength\n",
    "Input : str\n",
    "Output : tuple (str,list) eg (\"Weak\",[\"The password must contain at least 1 capital letter\"])       \n",
    "\n",
    "Test Cases:\n",
    "    \n",
    "    1. Input : \"Abcd@1234\"\n",
    "\n",
    "       Expected Output: (\"Valid\",[])\n",
    "   \n",
    "    \n",
    "    2. Input : \"Abc@1\"\n",
    "\n",
    "       Expected Output: (\"InValid\",[\"The length of the password must be at least 8 characters in length\"\n",
    "    \n",
    "    3. Input : \"abc12\"\n",
    "\n",
    "       Expected Output: (\"InValid\",[\"The length of the password must be at least 8 characters in length\",\"The password must contain at least 1 special character and allowed special characters are (!,@,#,$,&)\",\"The password must contain at least 1 capital letter\"])\n",
    "   \n",
    "   \n",
    "    4. Input : \"aBcD**#&\"\n",
    "\n",
    "       Expected Output: (\"InValid\",[\"The password must contain at least 1 special character and allowed special characters are (!,@,#,$,&)\",\"The password must contain at least 1 digit\"])\n",
    "\n",
    "</b>"
   ]
  },
  {
   "cell_type": "code",
   "execution_count": 2,
   "metadata": {},
   "outputs": [
    {
     "data": {
      "text/plain": [
       "('InValid',\n",
       " ['The length of the password must be at least 8 characters in length',\n",
       "  'The password must contain at least 1 special character and allowed special characters are (!,@,#,$,&)'])"
      ]
     },
     "execution_count": 2,
     "metadata": {},
     "output_type": "execute_result"
    }
   ],
   "source": [
    "def question_seventh_solution(string):\n",
    "    SpecialSym =['!','$', '@', '#', '%','&'] \n",
    "    isDigit = False\n",
    "    isUpper = False\n",
    "    isLower = False\n",
    "    isSpecial = False\n",
    "    \n",
    "    count = 0\n",
    "    \n",
    "    for char in string:\n",
    "        if char.isdigit():\n",
    "            isDigit = True\n",
    "            continue\n",
    "        \n",
    "        if char.isupper():\n",
    "            isUpper = True\n",
    "            continue\n",
    "        \n",
    "        if char.islower():\n",
    "            isLower = True\n",
    "            continue\n",
    "        \n",
    "        if char in SpecialSym:\n",
    "            isSpecial = True\n",
    "            continue\n",
    "        else:\n",
    "            count += 1\n",
    "            break\n",
    "        \n",
    "        if count == 1:\n",
    "            isSpecial = False\n",
    "\n",
    "    output = [\"Valid\", []]\n",
    "    \n",
    "    if len(string) < 8:\n",
    "        output[0] = \"InValid\"\n",
    "        output[1].append(\"The length of the password must be at least 8 characters in length\")\n",
    "        \n",
    "    if not isUpper:\n",
    "        output[1].append(\"The password must contain at least 1  upper letter\")\n",
    "\n",
    "    if not isLower:\n",
    "        output[1].append(\"The password must contain at least 1  lower letter\")\n",
    "\n",
    "    if not isDigit:\n",
    "        output[1].append(\"The password must contain at least 1  one digit\")\n",
    "\n",
    "    if not isSpecial:\n",
    "        output[1].append(\"The password must contain at least 1 special character and allowed special characters are (!,@,#,$,&)\")\n",
    "    \n",
    "    return tuple(output)\n",
    "\n",
    "question_seventh_solution(\"Acb123\")"
   ]
  },
  {
   "cell_type": "markdown",
   "metadata": {},
   "source": [
    "<b>\n",
    "8. Check if given sentence is syntactically correct or not\n",
    "\n",
    "A simple sentence if syntactically correct if it fulfills given rules. The following are given rules.\n",
    " - Sentence must start with a Uppercase character (e.g. Noun/ I/ We/ He etc.)\n",
    " - There must be spaces between words.\n",
    " - Then the sentence must end with a full stop(.).\n",
    " - Two continuous spaces are not allowed.\n",
    " - Two continuous uppercase characters are not allowed.\n",
    " - However the sentence can end after an uppercase character.\n",
    " \n",
    "Function Name : check_sentence\n",
    "Input : str\n",
    "Output : tuple (True/False,list) eg (False,[\"There must be spaces between words.\"]) \n",
    "\n",
    "Test Cases:\n",
    "    \n",
    "    1. Input : \"An important part of my life has been the people who stood by me.\"\n",
    "    \n",
    "       Output : (True,[])\n",
    "    \n",
    "    2. Input : \"AN important part of my life has been the people who stood by me\"\n",
    "    \n",
    "       Output : (False,[\"the sentence must end with a full stop(.)\",\"Two continuous uppercase characters are not allowed.\"])\n",
    "    \n",
    "    3. Input : \"An important  part of my life has been the people who stood by me  .\"\n",
    "    \n",
    "       Output : (False,[\"Two continuous spaces are not allowed.\"])\n",
    "       \n",
    "</b>"
   ]
  },
  {
   "cell_type": "code",
   "execution_count": 1,
   "metadata": {},
   "outputs": [
    {
     "data": {
      "text/plain": [
       "('False',\n",
       " ['the sentence must end with a full stop(.)',\n",
       "  'Two continuous spaces are not allowed.'])"
      ]
     },
     "execution_count": 1,
     "metadata": {},
     "output_type": "execute_result"
    }
   ],
   "source": [
    "def question_eighth_solution(string):\n",
    "    length = len(string) \n",
    "    \n",
    "    string_start = True\n",
    "    string_end = True\n",
    "    output = [True,[]]\n",
    "    \n",
    "    if string[0] < 'A' or string[0] > 'Z': \n",
    "        output[0] = False\n",
    "        output[1].append(\"the sentence must start with an uppercase character\")\n",
    "    \n",
    "    if string[length-1] != '.': \n",
    "        output[0] = \"False\"\n",
    "        output[1].append(\"the sentence must end with a full stop(.)\")\n",
    "        \n",
    "    for i in range(1,len(string)-1):\n",
    "        if string[i] >= 'A' and string[i] <= 'Z':\n",
    "            output[1].append(\"Two continuous uppercase characters are not allowed.\")\n",
    "        if string[i] + string[i+1] == \"  \":\n",
    "            output[1].append(\"Two continuous spaces are not allowed.\")\n",
    "    \n",
    "    return tuple(output)        \n",
    "\n",
    "question_eighth_solution(\"An important part of my life has been the people who stood by me  \")"
   ]
  },
  {
   "cell_type": "markdown",
   "metadata": {},
   "source": [
    "<b>\n",
    "9.Given an array arr[] of integers and an integer K, the task is to find the greatest contiguous sub-array of size K. \n",
    "\n",
    "Sub-array X is said to be greater than sub-array Y if the first non-matching element in both the sub-arrays has a greater value in X than in Y.\n",
    "\n",
    "For example : \n",
    "Input: arr[] = {1, 4, 3, 2, 5}, K = 4\n",
    "Output: 4 3 2 5\n",
    "Two subarrays are {1, 4, 3, 2} and {4, 3, 2, 5}. First non-matching element from array1 and array 2 : 1 and 4 as 4 is greater \n",
    "Hence, the greater one is {4, 3, 2, 5}\n",
    "\n",
    "Function Name : greatest_sub_array()\n",
    "Input : list\n",
    "Output : list\n",
    "\n",
    "Test cases:\n",
    "    \n",
    "    1. Input : arr = [1,4,3,2,5] k = 3\n",
    "        \n",
    "       Expected output : [4,3,2]\n",
    "        \n",
    "    2. Input : arr = [1,4,5,5,3,1,5] k = 4\n",
    "        \n",
    "       Expected output : [5,5,3,1]\n",
    "        \n",
    "    3. Input : arr = [1,5,5,5,4,4,3,3,2] k = 3\n",
    "        \n",
    "       Expected output : [5,5,5]\n",
    "        \n",
    "    4. Input : arr = [1,5,5,5,4,4,3,3,2] k = 2\n",
    "        \n",
    "       Expected output : [5,5]\n",
    "\n",
    "</b>"
   ]
  },
  {
   "cell_type": "code",
   "execution_count": 1,
   "metadata": {},
   "outputs": [
    {
     "data": {
      "text/plain": [
       "[5, 5]"
      ]
     },
     "execution_count": 1,
     "metadata": {},
     "output_type": "execute_result"
    }
   ],
   "source": [
    "def question_ninth_solution(arr, k):\n",
    "    res = []\n",
    "    for i in range(len(arr)-k+1):\n",
    "        temp = []\n",
    "        for j in range(i,i+k):\n",
    "            temp.append(arr[j])\n",
    "        res.append(temp)\n",
    "    res=sorted(res)\n",
    "    return res[len(res) - 1] \n",
    "\n",
    "question_ninth_solution([1,5,5,5,4,4,3,3,2], 2)"
   ]
  },
  {
   "cell_type": "markdown",
   "metadata": {},
   "source": [
    "<b>\n",
    "10.Given a list of N integers. The task is to eliminate the minimum number of elements such that in the resulting list the sum of any two adjacent values is even.\n",
    "\n",
    "Numbers = [1, 3, 5, 4, 2]\n",
    "Output = [1, 3, 5] \n",
    "Total elements removed 2\n",
    "Elements to be removed [4,2]\n",
    "\n",
    "Function Name : adj_sum_even()\n",
    "Input : list\n",
    "Output : tuple(int,list)\n",
    "\n",
    "Test Cases:\n",
    "    \n",
    "    1. Input : [1,4,3,6,8,5,7]\n",
    "\n",
    "       Expected Output: (3,[1,3,5,7])\n",
    "   \n",
    "    \n",
    "    2. Input : [1,4,2,3,6,5]\n",
    "\n",
    "       Expected Output: (3,[1,3,5]) or (3,[4,2,6])\n",
    "   \n",
    "    \n",
    "    3. Input : [1,2,2,4,3]\n",
    "\n",
    "       Expected Output: (2,[2,2,4]) \n",
    "\n",
    "</b>"
   ]
  },
  {
   "cell_type": "code",
   "execution_count": 1,
   "metadata": {},
   "outputs": [
    {
     "data": {
      "text/plain": [
       "(2, [2, 2, 4])"
      ]
     },
     "execution_count": 1,
     "metadata": {},
     "output_type": "execute_result"
    }
   ],
   "source": [
    "def question_tenth_solution(nums):\n",
    "    n = len(nums)\n",
    "    oddArr = []\n",
    "    evenArr = []\n",
    "\n",
    "    countOdd = 0\n",
    "    countEven = 0\n",
    "\n",
    "    for i in range(n): \n",
    "        if (nums[i] % 2): \n",
    "            oddArr.append(nums[i])\n",
    "            countOdd += 1\n",
    "        else:\n",
    "            evenArr.append(nums[i])\n",
    "            countEven += 1\n",
    "\n",
    "    if countOdd > countEven:\n",
    "        res = oddArr\n",
    "    else:\n",
    "        res = evenArr\n",
    "\n",
    "    return (min(countOdd, countEven), res)\n",
    "\n",
    "question_tenth_solution([1,2,2,4,3])"
   ]
  }
 ],
 "metadata": {
  "kernelspec": {
   "display_name": "Python 3",
   "language": "python",
   "name": "python3"
  },
  "language_info": {
   "codemirror_mode": {
    "name": "ipython",
    "version": 3
   },
   "file_extension": ".py",
   "mimetype": "text/x-python",
   "name": "python",
   "nbconvert_exporter": "python",
   "pygments_lexer": "ipython3",
   "version": "3.7.3"
  }
 },
 "nbformat": 4,
 "nbformat_minor": 2
}

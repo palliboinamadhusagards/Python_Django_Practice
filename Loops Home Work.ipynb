{
 "cells": [
  {
   "cell_type": "markdown",
   "metadata": {},
   "source": [
    "### Finding second maximum value"
   ]
  },
  {
   "cell_type": "code",
   "execution_count": 1,
   "metadata": {},
   "outputs": [
    {
     "name": "stdout",
     "output_type": "stream",
     "text": [
      "150\n",
      "100\n"
     ]
    }
   ],
   "source": [
    "nums = [100,45,12,74,90,150,4,2,1]\n",
    "\n",
    "max_1 = 0\n",
    "max_2 = 0\n",
    "\n",
    "for num in nums:\n",
    "    if num > max_1 and num > max_2:\n",
    "        max_2 = max_1\n",
    "        max_1 = num\n",
    "    elif num < max_1 and num > max_2:\n",
    "        max_2 = num\n",
    "\n",
    "print(max_1)\n",
    "print(max_2)"
   ]
  },
  {
   "cell_type": "markdown",
   "metadata": {},
   "source": [
    "### Generate the tables 1 to 5\n",
    "\n",
    "1   2 ....... 5\n",
    "\n",
    "2   4         .\n",
    "\n",
    "3   6         .\n",
    "\n",
    "4   .         .\n",
    "\n",
    "5             .\n",
    "\n",
    "6             .\n",
    "\n",
    "7             . \n",
    "\n",
    "8             . \n",
    "\n",
    "9             .\n",
    "\n",
    "10  20 ....... 50"
   ]
  },
  {
   "cell_type": "code",
   "execution_count": 2,
   "metadata": {},
   "outputs": [
    {
     "name": "stdout",
     "output_type": "stream",
     "text": [
      "1\t2\t3\t4\t5\t\n",
      "\n",
      "2\t4\t6\t8\t10\t\n",
      "\n",
      "3\t6\t9\t12\t15\t\n",
      "\n",
      "4\t8\t12\t16\t20\t\n",
      "\n",
      "5\t10\t15\t20\t25\t\n",
      "\n",
      "6\t12\t18\t24\t30\t\n",
      "\n",
      "7\t14\t21\t28\t35\t\n",
      "\n",
      "8\t16\t24\t32\t40\t\n",
      "\n",
      "9\t18\t27\t36\t45\t\n",
      "\n",
      "10\t20\t30\t40\t50\t\n",
      "\n"
     ]
    }
   ],
   "source": [
    "nums = nums = [1,2,3,4,5]\n",
    "\n",
    "for i in range(1,11):\n",
    "    for num in nums:\n",
    "        table = num * i\n",
    "        print(table,end = \"\\t\")    \n",
    "    print(\"\\n\")"
   ]
  },
  {
   "cell_type": "code",
   "execution_count": null,
   "metadata": {},
   "outputs": [],
   "source": []
  }
 ],
 "metadata": {
  "kernelspec": {
   "display_name": "Python 3",
   "language": "python",
   "name": "python3"
  },
  "language_info": {
   "codemirror_mode": {
    "name": "ipython",
    "version": 3
   },
   "file_extension": ".py",
   "mimetype": "text/x-python",
   "name": "python",
   "nbconvert_exporter": "python",
   "pygments_lexer": "ipython3",
   "version": "3.7.3"
  }
 },
 "nbformat": 4,
 "nbformat_minor": 2
}
